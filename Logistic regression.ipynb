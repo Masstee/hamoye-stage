{
 "cells": [
  {
   "cell_type": "code",
   "execution_count": 1,
   "metadata": {},
   "outputs": [],
   "source": [
    "import pandas as pd\n",
    "import numpy as np"
   ]
  },
  {
   "cell_type": "code",
   "execution_count": 2,
   "metadata": {},
   "outputs": [],
   "source": [
    "#using python to download the dataset (uncomment the codes below and execute them)\n",
    "#import urllib.request\n",
    "#url = 'https://query.data.world/s/wh6j7rxy2hvrn4ml75ci62apk5hgae'\n",
    "#filename = 'dataworld.csv'\n",
    "#urllib.request.urlretrieve(url, filename)"
   ]
  },
  {
   "cell_type": "code",
   "execution_count": 3,
   "metadata": {},
   "outputs": [],
   "source": [
    "#using pandas to download the dataset (uncomment the code below and execute them)\n",
    "#df = pd.read_csv('https://query.data.world/s/wh6j7rxy2hvrn4ml75ci62apk5hgae')\n",
    "#df.to_csv('dataset.csv')"
   ]
  },
  {
   "cell_type": "code",
   "execution_count": 4,
   "metadata": {},
   "outputs": [
    {
     "data": {
      "text/html": [
       "<div>\n",
       "<style scoped>\n",
       "    .dataframe tbody tr th:only-of-type {\n",
       "        vertical-align: middle;\n",
       "    }\n",
       "\n",
       "    .dataframe tbody tr th {\n",
       "        vertical-align: top;\n",
       "    }\n",
       "\n",
       "    .dataframe thead th {\n",
       "        text-align: right;\n",
       "    }\n",
       "</style>\n",
       "<table border=\"1\" class=\"dataframe\">\n",
       "  <thead>\n",
       "    <tr style=\"text-align: right;\">\n",
       "      <th></th>\n",
       "      <th>Unnamed: 0</th>\n",
       "      <th>country</th>\n",
       "      <th>year</th>\n",
       "      <th>country_code</th>\n",
       "      <th>record</th>\n",
       "      <th>crop_land</th>\n",
       "      <th>grazing_land</th>\n",
       "      <th>forest_land</th>\n",
       "      <th>fishing_ground</th>\n",
       "      <th>built_up_land</th>\n",
       "      <th>carbon</th>\n",
       "      <th>total</th>\n",
       "      <th>QScore</th>\n",
       "    </tr>\n",
       "  </thead>\n",
       "  <tbody>\n",
       "    <tr>\n",
       "      <th>0</th>\n",
       "      <td>0</td>\n",
       "      <td>Armenia</td>\n",
       "      <td>1992</td>\n",
       "      <td>1</td>\n",
       "      <td>AreaPerCap</td>\n",
       "      <td>0.140292</td>\n",
       "      <td>0.199546</td>\n",
       "      <td>0.097188051</td>\n",
       "      <td>0.036888</td>\n",
       "      <td>0.029320</td>\n",
       "      <td>0.000000</td>\n",
       "      <td>5.032351e-01</td>\n",
       "      <td>3A</td>\n",
       "    </tr>\n",
       "    <tr>\n",
       "      <th>1</th>\n",
       "      <td>1</td>\n",
       "      <td>Armenia</td>\n",
       "      <td>1992</td>\n",
       "      <td>1</td>\n",
       "      <td>AreaTotHA</td>\n",
       "      <td>483000.000000</td>\n",
       "      <td>687000.000000</td>\n",
       "      <td>334600</td>\n",
       "      <td>127000.000000</td>\n",
       "      <td>100943.000800</td>\n",
       "      <td>0.000000</td>\n",
       "      <td>1.732543e+06</td>\n",
       "      <td>3A</td>\n",
       "    </tr>\n",
       "    <tr>\n",
       "      <th>2</th>\n",
       "      <td>2</td>\n",
       "      <td>Armenia</td>\n",
       "      <td>1992</td>\n",
       "      <td>1</td>\n",
       "      <td>BiocapPerCap</td>\n",
       "      <td>0.159804</td>\n",
       "      <td>0.135261</td>\n",
       "      <td>0.084003213</td>\n",
       "      <td>0.013742</td>\n",
       "      <td>0.033398</td>\n",
       "      <td>0.000000</td>\n",
       "      <td>4.262086e-01</td>\n",
       "      <td>3A</td>\n",
       "    </tr>\n",
       "    <tr>\n",
       "      <th>3</th>\n",
       "      <td>3</td>\n",
       "      <td>Armenia</td>\n",
       "      <td>1992</td>\n",
       "      <td>1</td>\n",
       "      <td>BiocapTotGHA</td>\n",
       "      <td>550176.242700</td>\n",
       "      <td>465677.972200</td>\n",
       "      <td>289207.1078</td>\n",
       "      <td>47311.551720</td>\n",
       "      <td>114982.279300</td>\n",
       "      <td>0.000000</td>\n",
       "      <td>1.467355e+06</td>\n",
       "      <td>3A</td>\n",
       "    </tr>\n",
       "    <tr>\n",
       "      <th>4</th>\n",
       "      <td>4</td>\n",
       "      <td>Armenia</td>\n",
       "      <td>1992</td>\n",
       "      <td>1</td>\n",
       "      <td>EFConsPerCap</td>\n",
       "      <td>0.387510</td>\n",
       "      <td>0.189462</td>\n",
       "      <td>1.26E-06</td>\n",
       "      <td>0.004165</td>\n",
       "      <td>0.033398</td>\n",
       "      <td>1.114093</td>\n",
       "      <td>1.728629e+00</td>\n",
       "      <td>3A</td>\n",
       "    </tr>\n",
       "  </tbody>\n",
       "</table>\n",
       "</div>"
      ],
      "text/plain": [
       "   Unnamed: 0  country  year  country_code        record      crop_land  \\\n",
       "0           0  Armenia  1992             1    AreaPerCap       0.140292   \n",
       "1           1  Armenia  1992             1     AreaTotHA  483000.000000   \n",
       "2           2  Armenia  1992             1  BiocapPerCap       0.159804   \n",
       "3           3  Armenia  1992             1  BiocapTotGHA  550176.242700   \n",
       "4           4  Armenia  1992             1  EFConsPerCap       0.387510   \n",
       "\n",
       "    grazing_land  forest_land  fishing_ground  built_up_land    carbon  \\\n",
       "0       0.199546  0.097188051        0.036888       0.029320  0.000000   \n",
       "1  687000.000000       334600   127000.000000  100943.000800  0.000000   \n",
       "2       0.135261  0.084003213        0.013742       0.033398  0.000000   \n",
       "3  465677.972200  289207.1078    47311.551720  114982.279300  0.000000   \n",
       "4       0.189462     1.26E-06        0.004165       0.033398  1.114093   \n",
       "\n",
       "          total QScore  \n",
       "0  5.032351e-01     3A  \n",
       "1  1.732543e+06     3A  \n",
       "2  4.262086e-01     3A  \n",
       "3  1.467355e+06     3A  \n",
       "4  1.728629e+00     3A  "
      ]
     },
     "execution_count": 4,
     "metadata": {},
     "output_type": "execute_result"
    }
   ],
   "source": [
    "#load the dataset\n",
    "df = pd.read_csv('dataset.csv', low_memory=False)\n",
    "df.head()"
   ]
  },
  {
   "cell_type": "code",
   "execution_count": 5,
   "metadata": {},
   "outputs": [
    {
     "data": {
      "text/plain": [
       "3A    51481\n",
       "2A    10576\n",
       "2B    10096\n",
       "1A       16\n",
       "1B       16\n",
       "Name: QScore, dtype: int64"
      ]
     },
     "execution_count": 5,
     "metadata": {},
     "output_type": "execute_result"
    }
   ],
   "source": [
    "#check distribution of target variable\n",
    "df['QScore'].value_counts()"
   ]
  },
  {
   "cell_type": "code",
   "execution_count": 6,
   "metadata": {},
   "outputs": [
    {
     "data": {
      "text/plain": [
       "Unnamed: 0            0\n",
       "country               0\n",
       "year                  0\n",
       "country_code          0\n",
       "record                0\n",
       "crop_land         20472\n",
       "grazing_land      20472\n",
       "forest_land       20472\n",
       "fishing_ground    20473\n",
       "built_up_land     20473\n",
       "carbon            20473\n",
       "total                 9\n",
       "QScore                1\n",
       "dtype: int64"
      ]
     },
     "execution_count": 6,
     "metadata": {},
     "output_type": "execute_result"
    }
   ],
   "source": [
    "#checking for null values in the dataset\n",
    "df.isna().sum()"
   ]
  },
  {
   "cell_type": "code",
   "execution_count": 7,
   "metadata": {},
   "outputs": [
    {
     "data": {
      "text/plain": [
       "Unnamed: 0        0\n",
       "country           0\n",
       "year              0\n",
       "country_code      0\n",
       "record            0\n",
       "crop_land         0\n",
       "grazing_land      0\n",
       "forest_land       0\n",
       "fishing_ground    0\n",
       "built_up_land     0\n",
       "carbon            0\n",
       "total             0\n",
       "QScore            0\n",
       "dtype: int64"
      ]
     },
     "execution_count": 7,
     "metadata": {},
     "output_type": "execute_result"
    }
   ],
   "source": [
    "#for simplicity, we will drop the rows with missing values.\n",
    "df.dropna(inplace = True)\n",
    "df.isna().sum()\n",
    "#An obvious change in our target variable after removing the missing values is that there are only three classes left \n",
    "#and from the distribution of the 3 classes, we can see that there is an obvious imbalance between the classes. \n",
    "#There are methods that can be applied to handle this imbalance such as oversampling and undersampling.\n",
    "#Oversampling involves increasing the number of instances in the class with fewer instances while undersampling \n",
    "#involves reducing the data points in the class with more instances."
   ]
  },
  {
   "cell_type": "code",
   "execution_count": 8,
   "metadata": {},
   "outputs": [],
   "source": [
    "#drop the unnamed column\n",
    "#reset the dataframe index\n",
    "df.drop('Unnamed: 0', axis = 1, inplace = True)\n",
    "df = df.reset_index(drop = True)"
   ]
  },
  {
   "cell_type": "code",
   "execution_count": 9,
   "metadata": {},
   "outputs": [
    {
     "data": {
      "text/plain": [
       "3A    51473\n",
       "2A      240\n",
       "Name: QScore, dtype: int64"
      ]
     },
     "execution_count": 9,
     "metadata": {},
     "output_type": "execute_result"
    }
   ],
   "source": [
    "#For now, we will convert this to a binary classification problem by combining class '2A' and '1A'.\n",
    "df['QScore'] = df.loc[:, 'QScore'].replace(['1A'], '2A')\n",
    "df.QScore.value_counts()"
   ]
  },
  {
   "cell_type": "code",
   "execution_count": 10,
   "metadata": {},
   "outputs": [
    {
     "data": {
      "text/html": [
       "<div>\n",
       "<style scoped>\n",
       "    .dataframe tbody tr th:only-of-type {\n",
       "        vertical-align: middle;\n",
       "    }\n",
       "\n",
       "    .dataframe tbody tr th {\n",
       "        vertical-align: top;\n",
       "    }\n",
       "\n",
       "    .dataframe thead th {\n",
       "        text-align: right;\n",
       "    }\n",
       "</style>\n",
       "<table border=\"1\" class=\"dataframe\">\n",
       "  <thead>\n",
       "    <tr style=\"text-align: right;\">\n",
       "      <th></th>\n",
       "      <th>country</th>\n",
       "      <th>year</th>\n",
       "      <th>country_code</th>\n",
       "      <th>record</th>\n",
       "      <th>crop_land</th>\n",
       "      <th>grazing_land</th>\n",
       "      <th>forest_land</th>\n",
       "      <th>fishing_ground</th>\n",
       "      <th>built_up_land</th>\n",
       "      <th>carbon</th>\n",
       "      <th>total</th>\n",
       "      <th>QScore</th>\n",
       "    </tr>\n",
       "  </thead>\n",
       "  <tbody>\n",
       "    <tr>\n",
       "      <th>1096</th>\n",
       "      <td>Algeria</td>\n",
       "      <td>2016</td>\n",
       "      <td>4</td>\n",
       "      <td>AreaPerCap</td>\n",
       "      <td>2.072989e-01</td>\n",
       "      <td>8.112722e-01</td>\n",
       "      <td>0.048357265</td>\n",
       "      <td>2.258528e-02</td>\n",
       "      <td>2.998367e-02</td>\n",
       "      <td>0.000000</td>\n",
       "      <td>1.119497e+00</td>\n",
       "      <td>2A</td>\n",
       "    </tr>\n",
       "    <tr>\n",
       "      <th>1097</th>\n",
       "      <td>Algeria</td>\n",
       "      <td>2016</td>\n",
       "      <td>4</td>\n",
       "      <td>AreaTotHA</td>\n",
       "      <td>8.417600e+06</td>\n",
       "      <td>3.294260e+07</td>\n",
       "      <td>1963600</td>\n",
       "      <td>9.171000e+05</td>\n",
       "      <td>1.217520e+06</td>\n",
       "      <td>0.000000</td>\n",
       "      <td>4.545842e+07</td>\n",
       "      <td>2A</td>\n",
       "    </tr>\n",
       "    <tr>\n",
       "      <th>1098</th>\n",
       "      <td>Algeria</td>\n",
       "      <td>2016</td>\n",
       "      <td>4</td>\n",
       "      <td>BiocapPerCap</td>\n",
       "      <td>2.021916e-01</td>\n",
       "      <td>2.636077e-01</td>\n",
       "      <td>0.027166736</td>\n",
       "      <td>7.947991e-03</td>\n",
       "      <td>2.924496e-02</td>\n",
       "      <td>0.000000</td>\n",
       "      <td>5.301590e-01</td>\n",
       "      <td>2A</td>\n",
       "    </tr>\n",
       "    <tr>\n",
       "      <th>1099</th>\n",
       "      <td>Algeria</td>\n",
       "      <td>2016</td>\n",
       "      <td>4</td>\n",
       "      <td>BiocapTotGHA</td>\n",
       "      <td>8.210214e+06</td>\n",
       "      <td>1.070408e+07</td>\n",
       "      <td>1103135.245</td>\n",
       "      <td>3.227369e+05</td>\n",
       "      <td>1.187524e+06</td>\n",
       "      <td>0.000000</td>\n",
       "      <td>2.152769e+07</td>\n",
       "      <td>2A</td>\n",
       "    </tr>\n",
       "    <tr>\n",
       "      <th>1100</th>\n",
       "      <td>Algeria</td>\n",
       "      <td>2016</td>\n",
       "      <td>4</td>\n",
       "      <td>EFConsPerCap</td>\n",
       "      <td>6.280528e-01</td>\n",
       "      <td>1.810332e-01</td>\n",
       "      <td>0.162800822</td>\n",
       "      <td>1.472910e-02</td>\n",
       "      <td>2.924496e-02</td>\n",
       "      <td>1.391455</td>\n",
       "      <td>2.407316e+00</td>\n",
       "      <td>2A</td>\n",
       "    </tr>\n",
       "    <tr>\n",
       "      <th>...</th>\n",
       "      <td>...</td>\n",
       "      <td>...</td>\n",
       "      <td>...</td>\n",
       "      <td>...</td>\n",
       "      <td>...</td>\n",
       "      <td>...</td>\n",
       "      <td>...</td>\n",
       "      <td>...</td>\n",
       "      <td>...</td>\n",
       "      <td>...</td>\n",
       "      <td>...</td>\n",
       "      <td>...</td>\n",
       "    </tr>\n",
       "    <tr>\n",
       "      <th>35721</th>\n",
       "      <td>Eritrea</td>\n",
       "      <td>2011</td>\n",
       "      <td>178</td>\n",
       "      <td>AreaPerCap</td>\n",
       "      <td>1.546476e-01</td>\n",
       "      <td>1.542006e+00</td>\n",
       "      <td>0.341386782</td>\n",
       "      <td>1.644002e+00</td>\n",
       "      <td>4.362179e-02</td>\n",
       "      <td>0.000000</td>\n",
       "      <td>3.725665e+00</td>\n",
       "      <td>3A</td>\n",
       "    </tr>\n",
       "    <tr>\n",
       "      <th>48249</th>\n",
       "      <td>Ethiopia</td>\n",
       "      <td>2006</td>\n",
       "      <td>238</td>\n",
       "      <td>AreaPerCap</td>\n",
       "      <td>1.678108e-01</td>\n",
       "      <td>2.661612e-01</td>\n",
       "      <td>0.163082883</td>\n",
       "      <td>1.322753e-01</td>\n",
       "      <td>2.971261e-02</td>\n",
       "      <td>0.000000</td>\n",
       "      <td>7.590428e-01</td>\n",
       "      <td>3A</td>\n",
       "    </tr>\n",
       "    <tr>\n",
       "      <th>34069</th>\n",
       "      <td>Philippines</td>\n",
       "      <td>1990</td>\n",
       "      <td>171</td>\n",
       "      <td>EFConsPerCap</td>\n",
       "      <td>3.618597e-01</td>\n",
       "      <td>2.173961e-02</td>\n",
       "      <td>0.163061986</td>\n",
       "      <td>2.654861e-01</td>\n",
       "      <td>4.694141e-02</td>\n",
       "      <td>0.330045</td>\n",
       "      <td>1.189133e+00</td>\n",
       "      <td>3A</td>\n",
       "    </tr>\n",
       "    <tr>\n",
       "      <th>4281</th>\n",
       "      <td>Bangladesh</td>\n",
       "      <td>2005</td>\n",
       "      <td>16</td>\n",
       "      <td>AreaTotHA</td>\n",
       "      <td>8.711000e+06</td>\n",
       "      <td>6.000000e+05</td>\n",
       "      <td>1455000</td>\n",
       "      <td>8.002100e+06</td>\n",
       "      <td>2.206280e+06</td>\n",
       "      <td>0.000000</td>\n",
       "      <td>2.097438e+07</td>\n",
       "      <td>3A</td>\n",
       "    </tr>\n",
       "    <tr>\n",
       "      <th>16399</th>\n",
       "      <td>Ghana</td>\n",
       "      <td>1969</td>\n",
       "      <td>81</td>\n",
       "      <td>EFProdTotGHA</td>\n",
       "      <td>4.517849e+06</td>\n",
       "      <td>7.284396e+05</td>\n",
       "      <td>4359750.741</td>\n",
       "      <td>5.281852e+05</td>\n",
       "      <td>3.630023e+05</td>\n",
       "      <td>611351.488400</td>\n",
       "      <td>1.110858e+07</td>\n",
       "      <td>3A</td>\n",
       "    </tr>\n",
       "  </tbody>\n",
       "</table>\n",
       "<p>590 rows × 12 columns</p>\n",
       "</div>"
      ],
      "text/plain": [
       "           country  year  country_code        record     crop_land  \\\n",
       "1096       Algeria  2016             4    AreaPerCap  2.072989e-01   \n",
       "1097       Algeria  2016             4     AreaTotHA  8.417600e+06   \n",
       "1098       Algeria  2016             4  BiocapPerCap  2.021916e-01   \n",
       "1099       Algeria  2016             4  BiocapTotGHA  8.210214e+06   \n",
       "1100       Algeria  2016             4  EFConsPerCap  6.280528e-01   \n",
       "...            ...   ...           ...           ...           ...   \n",
       "35721      Eritrea  2011           178    AreaPerCap  1.546476e-01   \n",
       "48249     Ethiopia  2006           238    AreaPerCap  1.678108e-01   \n",
       "34069  Philippines  1990           171  EFConsPerCap  3.618597e-01   \n",
       "4281    Bangladesh  2005            16     AreaTotHA  8.711000e+06   \n",
       "16399        Ghana  1969            81  EFProdTotGHA  4.517849e+06   \n",
       "\n",
       "       grazing_land  forest_land  fishing_ground  built_up_land  \\\n",
       "1096   8.112722e-01  0.048357265    2.258528e-02   2.998367e-02   \n",
       "1097   3.294260e+07      1963600    9.171000e+05   1.217520e+06   \n",
       "1098   2.636077e-01  0.027166736    7.947991e-03   2.924496e-02   \n",
       "1099   1.070408e+07  1103135.245    3.227369e+05   1.187524e+06   \n",
       "1100   1.810332e-01  0.162800822    1.472910e-02   2.924496e-02   \n",
       "...             ...          ...             ...            ...   \n",
       "35721  1.542006e+00  0.341386782    1.644002e+00   4.362179e-02   \n",
       "48249  2.661612e-01  0.163082883    1.322753e-01   2.971261e-02   \n",
       "34069  2.173961e-02  0.163061986    2.654861e-01   4.694141e-02   \n",
       "4281   6.000000e+05      1455000    8.002100e+06   2.206280e+06   \n",
       "16399  7.284396e+05  4359750.741    5.281852e+05   3.630023e+05   \n",
       "\n",
       "              carbon         total QScore  \n",
       "1096        0.000000  1.119497e+00     2A  \n",
       "1097        0.000000  4.545842e+07     2A  \n",
       "1098        0.000000  5.301590e-01     2A  \n",
       "1099        0.000000  2.152769e+07     2A  \n",
       "1100        1.391455  2.407316e+00     2A  \n",
       "...              ...           ...    ...  \n",
       "35721       0.000000  3.725665e+00     3A  \n",
       "48249       0.000000  7.590428e-01     3A  \n",
       "34069       0.330045  1.189133e+00     3A  \n",
       "4281        0.000000  2.097438e+07     3A  \n",
       "16399  611351.488400  1.110858e+07     3A  \n",
       "\n",
       "[590 rows x 12 columns]"
      ]
     },
     "execution_count": 10,
     "metadata": {},
     "output_type": "execute_result"
    }
   ],
   "source": [
    "df_2A = df[df.QScore=='2A']\n",
    "df_3A = df[df.QScore=='3A'].sample(350)\n",
    "data_df = df_2A.append(df_3A)\n",
    "data_df"
   ]
  },
  {
   "cell_type": "code",
   "execution_count": 11,
   "metadata": {},
   "outputs": [
    {
     "data": {
      "text/plain": [
       "3A    350\n",
       "2A    240\n",
       "Name: QScore, dtype: int64"
      ]
     },
     "execution_count": 11,
     "metadata": {},
     "output_type": "execute_result"
    }
   ],
   "source": [
    "import sklearn.utils\n",
    "data_df = sklearn.utils.shuffle(data_df)\n",
    "data_df = data_df.reset_index(drop=True)\n",
    "data_df.shape\n",
    "data_df.QScore.value_counts()"
   ]
  },
  {
   "cell_type": "code",
   "execution_count": 12,
   "metadata": {},
   "outputs": [],
   "source": [
    "#more preprocessing\n",
    "data_df = data_df.drop(columns=['country_code', 'country', 'year'])\n",
    "X = data_df.drop(columns='QScore')\n",
    "y = data_df['QScore']"
   ]
  },
  {
   "cell_type": "code",
   "execution_count": 13,
   "metadata": {},
   "outputs": [
    {
     "data": {
      "text/plain": [
       "3A    246\n",
       "2A    167\n",
       "Name: QScore, dtype: int64"
      ]
     },
     "execution_count": 13,
     "metadata": {},
     "output_type": "execute_result"
    }
   ],
   "source": [
    "#split the data into training and testing sets\n",
    "from sklearn.model_selection import train_test_split\n",
    "x_train, x_test, y_train, y_test = train_test_split(X, y, test_size=0.3, random_state=0)\n",
    "y_train.value_counts()"
   ]
  },
  {
   "cell_type": "code",
   "execution_count": 14,
   "metadata": {},
   "outputs": [],
   "source": [
    "#installing imblearn module (uncomment the pip command to install imblearn)\n",
    "#!pip install imblearn"
   ]
  },
  {
   "cell_type": "code",
   "execution_count": 15,
   "metadata": {},
   "outputs": [
    {
     "data": {
      "text/plain": [
       "285    EFConsTotGHA\n",
       "113    EFConsPerCap\n",
       "18     BiocapTotGHA\n",
       "76     BiocapPerCap\n",
       "206    BiocapTotGHA\n",
       "           ...     \n",
       "277    BiocapTotGHA\n",
       "9         AreaTotHA\n",
       "359    EFConsTotGHA\n",
       "192    EFConsPerCap\n",
       "559    BiocapPerCap\n",
       "Name: record, Length: 413, dtype: object"
      ]
     },
     "execution_count": 15,
     "metadata": {},
     "output_type": "execute_result"
    }
   ],
   "source": [
    "#the record feature needs to be encoded\n",
    "x_train.loc[:, 'record']"
   ]
  },
  {
   "cell_type": "code",
   "execution_count": 16,
   "metadata": {},
   "outputs": [
    {
     "name": "stderr",
     "output_type": "stream",
     "text": [
      "c:\\general_venv\\lib\\site-packages\\pandas\\core\\generic.py:5303: SettingWithCopyWarning: \n",
      "A value is trying to be set on a copy of a slice from a DataFrame.\n",
      "Try using .loc[row_indexer,col_indexer] = value instead\n",
      "\n",
      "See the caveats in the documentation: https://pandas.pydata.org/pandas-docs/stable/user_guide/indexing.html#returning-a-view-versus-a-copy\n",
      "  self[name] = value\n"
     ]
    }
   ],
   "source": [
    "#encode categorical variable\n",
    "from sklearn.preprocessing import LabelEncoder\n",
    "encoder = LabelEncoder()\n",
    "x_train.record = encoder.fit_transform(x_train.record)\n",
    "x_test.record = encoder.transform(x_test.record)"
   ]
  },
  {
   "cell_type": "code",
   "execution_count": 17,
   "metadata": {},
   "outputs": [
    {
     "data": {
      "text/plain": [
       "285    5\n",
       "113    4\n",
       "18     3\n",
       "76     2\n",
       "206    3\n",
       "      ..\n",
       "277    3\n",
       "9      1\n",
       "359    5\n",
       "192    4\n",
       "559    2\n",
       "Name: record, Length: 413, dtype: int32"
      ]
     },
     "execution_count": 17,
     "metadata": {},
     "output_type": "execute_result"
    }
   ],
   "source": [
    "#the encoded feature\n",
    "x_train.record"
   ]
  },
  {
   "cell_type": "code",
   "execution_count": 18,
   "metadata": {},
   "outputs": [
    {
     "data": {
      "text/plain": [
       "3A    246\n",
       "2A    167\n",
       "Name: QScore, dtype: int64"
      ]
     },
     "execution_count": 18,
     "metadata": {},
     "output_type": "execute_result"
    }
   ],
   "source": [
    "#There is still an imbalance in the class distribution. For this, we use SMOTE only on the training data to handle this.\n",
    "import imblearn\n",
    "from imblearn.over_sampling import SMOTE\n",
    "smote = SMOTE(random_state=1)\n",
    "x_train_balanced, y_balanced = smote.fit_sample(x_train, y_train)\n",
    "y_train.value_counts()"
   ]
  },
  {
   "cell_type": "code",
   "execution_count": 19,
   "metadata": {},
   "outputs": [],
   "source": [
    "from sklearn.preprocessing import MinMaxScaler\n",
    "scaler = MinMaxScaler()\n",
    "normalised_train_df = scaler.fit_transform(x_train_balanced.drop(columns=['record']))\n",
    "normalised_train_df = pd.DataFrame(normalised_train_df, columns=x_train_balanced.drop(columns=['record']).columns)\n",
    "normalised_train_df['record'] = x_train_balanced['record']"
   ]
  },
  {
   "cell_type": "code",
   "execution_count": 20,
   "metadata": {},
   "outputs": [],
   "source": [
    "x_test = x_test.reset_index(drop=True)\n",
    "normalised_test_df = scaler.transform(x_test.drop(columns=['record']))\n",
    "normalised_test_df = pd.DataFrame(normalised_test_df, columns=x_test.drop(columns=['record']).columns)\n",
    "normalised_test_df['record'] = x_test['record']"
   ]
  },
  {
   "cell_type": "code",
   "execution_count": 21,
   "metadata": {},
   "outputs": [
    {
     "data": {
      "text/plain": [
       "LogisticRegression()"
      ]
     },
     "execution_count": 21,
     "metadata": {},
     "output_type": "execute_result"
    }
   ],
   "source": [
    "#Logistic Regression\n",
    "from sklearn.linear_model import LogisticRegression\n",
    "log_reg = LogisticRegression()\n",
    "log_reg.fit(normalised_train_df, y_balanced)\n",
    "#returns\n",
    "LogisticRegression(C=1.0, class_weight=None, dual=False, fit_intercept=True,\n",
    "                   intercept_scaling=1, l1_ratio=None, max_iter=100,\n",
    "                   multi_class='auto', n_jobs=None, penalty='l2',\n",
    "                   random_state=None, solver='lbfgs', tol=0.0001, verbose=0,\n",
    "                   warm_start=False)"
   ]
  },
  {
   "cell_type": "code",
   "execution_count": null,
   "metadata": {},
   "outputs": [],
   "source": []
  }
 ],
 "metadata": {
  "kernelspec": {
   "display_name": "Python 3",
   "language": "python",
   "name": "python3"
  },
  "language_info": {
   "codemirror_mode": {
    "name": "ipython",
    "version": 3
   },
   "file_extension": ".py",
   "mimetype": "text/x-python",
   "name": "python",
   "nbconvert_exporter": "python",
   "pygments_lexer": "ipython3",
   "version": "3.8.2"
  }
 },
 "nbformat": 4,
 "nbformat_minor": 4
}
